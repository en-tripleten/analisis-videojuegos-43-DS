{
 "cells": [
  {
   "cell_type": "code",
   "execution_count": 1,
   "id": "87cfa66c-4285-4348-941e-a89d0131040a",
   "metadata": {},
   "outputs": [
    {
     "name": "stdout",
     "output_type": "stream",
     "text": [
      "Hola Mundo\n"
     ]
    }
   ],
   "source": [
    "print('Hola Mundo')"
   ]
  },
  {
   "cell_type": "code",
   "execution_count": 2,
   "id": "339e28d9-e86e-494a-a258-96b10b27f978",
   "metadata": {},
   "outputs": [],
   "source": [
    "nombre = 'erick'"
   ]
  },
  {
   "cell_type": "code",
   "execution_count": 3,
   "id": "f748db2f-a1ec-447c-bbee-5c391b58a296",
   "metadata": {},
   "outputs": [
    {
     "data": {
      "text/plain": [
       "'erick'"
      ]
     },
     "execution_count": 3,
     "metadata": {},
     "output_type": "execute_result"
    }
   ],
   "source": [
    "nombre"
   ]
  },
  {
   "cell_type": "markdown",
   "id": "1d224ca3-ace8-44a1-a186-da91df280815",
   "metadata": {},
   "source": [
    "# Titulo"
   ]
  },
  {
   "cell_type": "markdown",
   "id": "2486b61e-4eee-43e5-bbf8-06849f1adf1c",
   "metadata": {},
   "source": [
    "## Subtitulo"
   ]
  },
  {
   "cell_type": "code",
   "execution_count": null,
   "id": "b0e2b140-de64-4b79-83b2-1db88bd4cb1d",
   "metadata": {},
   "outputs": [],
   "source": []
  },
  {
   "cell_type": "code",
   "execution_count": null,
   "id": "a5ea66b8-630d-48f9-b9d9-e3acd5359f53",
   "metadata": {},
   "outputs": [],
   "source": []
  },
  {
   "cell_type": "code",
   "execution_count": null,
   "id": "13d8b272-93d0-46ba-ad68-7f77c4906468",
   "metadata": {},
   "outputs": [],
   "source": []
  },
  {
   "cell_type": "code",
   "execution_count": null,
   "id": "487592ab-839e-4daa-a247-f99a72d353ab",
   "metadata": {},
   "outputs": [],
   "source": []
  },
  {
   "cell_type": "code",
   "execution_count": null,
   "id": "74c89e16-e7a2-46ef-b298-ec99ee468827",
   "metadata": {},
   "outputs": [],
   "source": []
  }
 ],
 "metadata": {
  "kernelspec": {
   "display_name": "Python 3 (ipykernel)",
   "language": "python",
   "name": "python3"
  },
  "language_info": {
   "codemirror_mode": {
    "name": "ipython",
    "version": 3
   },
   "file_extension": ".py",
   "mimetype": "text/x-python",
   "name": "python",
   "nbconvert_exporter": "python",
   "pygments_lexer": "ipython3",
   "version": "3.11.7"
  }
 },
 "nbformat": 4,
 "nbformat_minor": 5
}
